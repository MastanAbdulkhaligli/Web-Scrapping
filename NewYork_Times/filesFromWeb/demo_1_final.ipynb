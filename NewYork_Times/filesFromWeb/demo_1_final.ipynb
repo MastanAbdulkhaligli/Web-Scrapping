{
 "metadata": {
  "language_info": {
   "codemirror_mode": {
    "name": "ipython",
    "version": 3
   },
   "file_extension": ".py",
   "mimetype": "text/x-python",
   "name": "python",
   "nbconvert_exporter": "python",
   "pygments_lexer": "ipython3",
   "version": "3.9.1-final"
  },
  "orig_nbformat": 2,
  "kernelspec": {
   "name": "python3",
   "display_name": "Python 3.9.1 64-bit",
   "metadata": {
    "interpreter": {
     "hash": "0d008810b9c8467bcb3ca39aa2180e5b81b3a9acb136aab30d47954377cc5120"
    }
   }
  }
 },
 "nbformat": 4,
 "nbformat_minor": 2,
 "cells": [
  {
   "cell_type": "code",
   "execution_count": 1,
   "metadata": {},
   "outputs": [],
   "source": [
    "import selenium\n",
    "import time\n",
    "import subprocess\n",
    "import os\n",
    "from selenium import webdriver\n",
    "from selenium.webdriver.common.keys import Keys\n",
    "\n",
    "# In this project we used Selenium to pull data from the web page, and store them in text files. \n",
    "# Then we used Java to create the user interface and print the answers.\n",
    "\n",
    "# to pull data from the web page, we had to inspect the source code and use necessary methods\n",
    "# to get what we wanted. Since the web page contains a wide variety of types, we had to search\n",
    "# through many methods to find what we had to use.\n",
    "\n",
    "options = webdriver.ChromeOptions()\n",
    "\n",
    "options.add_argument('--headless')\n",
    "options.add_argument('--no-sandbox')\n",
    "options.add_argument('--disable-dev-shm-usage')\n"
   ]
  },
  {
   "cell_type": "code",
   "execution_count": 2,
   "metadata": {},
   "outputs": [
    {
     "output_type": "stream",
     "name": "stdout",
     "text": [
      "1 Blue\n"
     ]
    }
   ],
   "source": [
    "driver = webdriver.Chrome('C:\\webdrivers\\chromedriver.exe')\n",
    "driver.maximize_window()\n",
    "driver.get(\"https://www.nytimes.com/crosswords/game/mini\")\n",
    "\n",
    "#clicks play without an account\n",
    "button = driver.find_element_by_class_name(\"StartModal-underlined--3IDBr\")\n",
    "button.click()\n",
    "clue = driver.find_element_by_class_name(\"Clue-text--3lZl7\").text\n",
    "number = driver.find_element_by_class_name(\"Clue-label--2IdMY\").text\n",
    "print(number,clue)\n",
    "\n"
   ]
  },
  {
   "cell_type": "code",
   "execution_count": 3,
   "metadata": {
    "tags": []
   },
   "outputs": [],
   "source": [
    "# Store all across clues into a list\n",
    "clues_across = []\n",
    "numbers_across = []\n",
    "# We use its class name from the source of the web page\n",
    "across = driver.find_element_by_class_name(\"ClueList-list--2dD5-\").text\n",
    "\n",
    "\n",
    "# Store all downwards clues into a list\n",
    "clues_down = []\n",
    "numbers_down = []\n",
    "down = driver.find_elements_by_class_name(\"ClueList-list--2dD5-\")[1].text\n",
    "\n",
    "# Then write both lists into separate text files\n",
    "f = open(\"clues_across.txt\",\"w\")\n",
    "f.writelines(across)\n",
    "f.close()\n",
    "\n",
    "g = open(\"clues_down.txt\",\"w\")\n",
    "g.writelines(down)\n",
    "g.close()"
   ]
  },
  {
   "cell_type": "code",
   "execution_count": 4,
   "metadata": {},
   "outputs": [],
   "source": [
    "\n",
    "\n",
    "# Reveal all answers\n",
    "driver.find_element_by_xpath(\"//*[@id='root']/div/div/div[4]/div/main/div[2]/div/div/ul/div[2]/li[2]\").click()\n",
    "driver.find_element_by_xpath(\"//*[@id='root']/div/div/div[4]/div/main/div[2]/div/div/ul/div[2]/li[2]/ul/li[3]\").click()\n",
    "driver.find_element_by_xpath(\"//*[@id='root']/div/div[2]/div[2]/article/div[2]/button[2]\").click()\n",
    "\n"
   ]
  },
  {
   "cell_type": "code",
   "execution_count": 5,
   "metadata": {},
   "outputs": [
    {
     "output_type": "stream",
     "name": "stdout",
     "text": [
      "[{'index': 0}]\n",
      "1\n",
      "[{'index': 0, 'type': 0}, {'index': 1}]\n",
      "4\n",
      "[{'index': 0, 'type': 0}, {'index': 1, 'type': 1, 'answer': 'S', 'label': '1'}, {'index': 2}]\n",
      "4\n",
      "[{'index': 0, 'type': 0}, {'index': 1, 'type': 1, 'answer': 'S', 'label': '1'}, {'index': 2, 'type': 1, 'answer': 'A', 'label': '2'}, {'index': 3}]\n",
      "4\n",
      "[{'index': 0, 'type': 0}, {'index': 1, 'type': 1, 'answer': 'S', 'label': '1'}, {'index': 2, 'type': 1, 'answer': 'A', 'label': '2'}, {'index': 3, 'type': 1, 'answer': 'D', 'label': '3'}, {'index': 4}]\n",
      "1\n",
      "[{'index': 0, 'type': 0}, {'index': 1, 'type': 1, 'answer': 'S', 'label': '1'}, {'index': 2, 'type': 1, 'answer': 'A', 'label': '2'}, {'index': 3, 'type': 1, 'answer': 'D', 'label': '3'}, {'index': 4, 'type': 0}, {'index': 5}]\n",
      "1\n",
      "[{'index': 0, 'type': 0}, {'index': 1, 'type': 1, 'answer': 'S', 'label': '1'}, {'index': 2, 'type': 1, 'answer': 'A', 'label': '2'}, {'index': 3, 'type': 1, 'answer': 'D', 'label': '3'}, {'index': 4, 'type': 0}, {'index': 5, 'type': 0}, {'index': 6}]\n",
      "4\n",
      "[{'index': 0, 'type': 0}, {'index': 1, 'type': 1, 'answer': 'S', 'label': '1'}, {'index': 2, 'type': 1, 'answer': 'A', 'label': '2'}, {'index': 3, 'type': 1, 'answer': 'D', 'label': '3'}, {'index': 4, 'type': 0}, {'index': 5, 'type': 0}, {'index': 6, 'type': 1, 'answer': 'U', 'label': '4'}, {'index': 7}]\n",
      "3\n",
      "[{'index': 0, 'type': 0}, {'index': 1, 'type': 1, 'answer': 'S', 'label': '1'}, {'index': 2, 'type': 1, 'answer': 'A', 'label': '2'}, {'index': 3, 'type': 1, 'answer': 'D', 'label': '3'}, {'index': 4, 'type': 0}, {'index': 5, 'type': 0}, {'index': 6, 'type': 1, 'answer': 'U', 'label': '4'}, {'index': 7, 'type': 1, 'answer': 'S'}, {'index': 8}]\n",
      "3\n",
      "[{'index': 0, 'type': 0}, {'index': 1, 'type': 1, 'answer': 'S', 'label': '1'}, {'index': 2, 'type': 1, 'answer': 'A', 'label': '2'}, {'index': 3, 'type': 1, 'answer': 'D', 'label': '3'}, {'index': 4, 'type': 0}, {'index': 5, 'type': 0}, {'index': 6, 'type': 1, 'answer': 'U', 'label': '4'}, {'index': 7, 'type': 1, 'answer': 'S'}, {'index': 8, 'type': 1, 'answer': 'A'}, {'index': 9}]\n",
      "1\n",
      "[{'index': 0, 'type': 0}, {'index': 1, 'type': 1, 'answer': 'S', 'label': '1'}, {'index': 2, 'type': 1, 'answer': 'A', 'label': '2'}, {'index': 3, 'type': 1, 'answer': 'D', 'label': '3'}, {'index': 4, 'type': 0}, {'index': 5, 'type': 0}, {'index': 6, 'type': 1, 'answer': 'U', 'label': '4'}, {'index': 7, 'type': 1, 'answer': 'S'}, {'index': 8, 'type': 1, 'answer': 'A'}, {'index': 9, 'type': 0}, {'index': 10}]\n",
      "4\n",
      "[{'index': 0, 'type': 0}, {'index': 1, 'type': 1, 'answer': 'S', 'label': '1'}, {'index': 2, 'type': 1, 'answer': 'A', 'label': '2'}, {'index': 3, 'type': 1, 'answer': 'D', 'label': '3'}, {'index': 4, 'type': 0}, {'index': 5, 'type': 0}, {'index': 6, 'type': 1, 'answer': 'U', 'label': '4'}, {'index': 7, 'type': 1, 'answer': 'S'}, {'index': 8, 'type': 1, 'answer': 'A'}, {'index': 9, 'type': 0}, {'index': 10, 'type': 1, 'answer': 'B', 'label': '5'}, {'index': 11}]\n",
      "3\n",
      "[{'index': 0, 'type': 0}, {'index': 1, 'type': 1, 'answer': 'S', 'label': '1'}, {'index': 2, 'type': 1, 'answer': 'A', 'label': '2'}, {'index': 3, 'type': 1, 'answer': 'D', 'label': '3'}, {'index': 4, 'type': 0}, {'index': 5, 'type': 0}, {'index': 6, 'type': 1, 'answer': 'U', 'label': '4'}, {'index': 7, 'type': 1, 'answer': 'S'}, {'index': 8, 'type': 1, 'answer': 'A'}, {'index': 9, 'type': 0}, {'index': 10, 'type': 1, 'answer': 'B', 'label': '5'}, {'index': 11, 'type': 1, 'answer': 'E'}, {'index': 12}]\n",
      "3\n",
      "[{'index': 0, 'type': 0}, {'index': 1, 'type': 1, 'answer': 'S', 'label': '1'}, {'index': 2, 'type': 1, 'answer': 'A', 'label': '2'}, {'index': 3, 'type': 1, 'answer': 'D', 'label': '3'}, {'index': 4, 'type': 0}, {'index': 5, 'type': 0}, {'index': 6, 'type': 1, 'answer': 'U', 'label': '4'}, {'index': 7, 'type': 1, 'answer': 'S'}, {'index': 8, 'type': 1, 'answer': 'A'}, {'index': 9, 'type': 0}, {'index': 10, 'type': 1, 'answer': 'B', 'label': '5'}, {'index': 11, 'type': 1, 'answer': 'E'}, {'index': 12, 'type': 1, 'answer': 'A'}, {'index': 13}]\n",
      "3\n",
      "[{'index': 0, 'type': 0}, {'index': 1, 'type': 1, 'answer': 'S', 'label': '1'}, {'index': 2, 'type': 1, 'answer': 'A', 'label': '2'}, {'index': 3, 'type': 1, 'answer': 'D', 'label': '3'}, {'index': 4, 'type': 0}, {'index': 5, 'type': 0}, {'index': 6, 'type': 1, 'answer': 'U', 'label': '4'}, {'index': 7, 'type': 1, 'answer': 'S'}, {'index': 8, 'type': 1, 'answer': 'A'}, {'index': 9, 'type': 0}, {'index': 10, 'type': 1, 'answer': 'B', 'label': '5'}, {'index': 11, 'type': 1, 'answer': 'E'}, {'index': 12, 'type': 1, 'answer': 'A'}, {'index': 13, 'type': 1, 'answer': 'R'}, {'index': 14}]\n",
      "4\n",
      "[{'index': 0, 'type': 0}, {'index': 1, 'type': 1, 'answer': 'S', 'label': '1'}, {'index': 2, 'type': 1, 'answer': 'A', 'label': '2'}, {'index': 3, 'type': 1, 'answer': 'D', 'label': '3'}, {'index': 4, 'type': 0}, {'index': 5, 'type': 0}, {'index': 6, 'type': 1, 'answer': 'U', 'label': '4'}, {'index': 7, 'type': 1, 'answer': 'S'}, {'index': 8, 'type': 1, 'answer': 'A'}, {'index': 9, 'type': 0}, {'index': 10, 'type': 1, 'answer': 'B', 'label': '5'}, {'index': 11, 'type': 1, 'answer': 'E'}, {'index': 12, 'type': 1, 'answer': 'A'}, {'index': 13, 'type': 1, 'answer': 'R'}, {'index': 14, 'type': 1, 'answer': 'D', 'label': '6'}, {'index': 15}]\n",
      "4\n",
      "[{'index': 0, 'type': 0}, {'index': 1, 'type': 1, 'answer': 'S', 'label': '1'}, {'index': 2, 'type': 1, 'answer': 'A', 'label': '2'}, {'index': 3, 'type': 1, 'answer': 'D', 'label': '3'}, {'index': 4, 'type': 0}, {'index': 5, 'type': 0}, {'index': 6, 'type': 1, 'answer': 'U', 'label': '4'}, {'index': 7, 'type': 1, 'answer': 'S'}, {'index': 8, 'type': 1, 'answer': 'A'}, {'index': 9, 'type': 0}, {'index': 10, 'type': 1, 'answer': 'B', 'label': '5'}, {'index': 11, 'type': 1, 'answer': 'E'}, {'index': 12, 'type': 1, 'answer': 'A'}, {'index': 13, 'type': 1, 'answer': 'R'}, {'index': 14, 'type': 1, 'answer': 'D', 'label': '6'}, {'index': 15, 'type': 1, 'answer': 'U', 'label': '7'}, {'index': 16}]\n",
      "3\n",
      "[{'index': 0, 'type': 0}, {'index': 1, 'type': 1, 'answer': 'S', 'label': '1'}, {'index': 2, 'type': 1, 'answer': 'A', 'label': '2'}, {'index': 3, 'type': 1, 'answer': 'D', 'label': '3'}, {'index': 4, 'type': 0}, {'index': 5, 'type': 0}, {'index': 6, 'type': 1, 'answer': 'U', 'label': '4'}, {'index': 7, 'type': 1, 'answer': 'S'}, {'index': 8, 'type': 1, 'answer': 'A'}, {'index': 9, 'type': 0}, {'index': 10, 'type': 1, 'answer': 'B', 'label': '5'}, {'index': 11, 'type': 1, 'answer': 'E'}, {'index': 12, 'type': 1, 'answer': 'A'}, {'index': 13, 'type': 1, 'answer': 'R'}, {'index': 14, 'type': 1, 'answer': 'D', 'label': '6'}, {'index': 15, 'type': 1, 'answer': 'U', 'label': '7'}, {'index': 16, 'type': 1, 'answer': 'D'}, {'index': 17}]\n",
      "3\n",
      "[{'index': 0, 'type': 0}, {'index': 1, 'type': 1, 'answer': 'S', 'label': '1'}, {'index': 2, 'type': 1, 'answer': 'A', 'label': '2'}, {'index': 3, 'type': 1, 'answer': 'D', 'label': '3'}, {'index': 4, 'type': 0}, {'index': 5, 'type': 0}, {'index': 6, 'type': 1, 'answer': 'U', 'label': '4'}, {'index': 7, 'type': 1, 'answer': 'S'}, {'index': 8, 'type': 1, 'answer': 'A'}, {'index': 9, 'type': 0}, {'index': 10, 'type': 1, 'answer': 'B', 'label': '5'}, {'index': 11, 'type': 1, 'answer': 'E'}, {'index': 12, 'type': 1, 'answer': 'A'}, {'index': 13, 'type': 1, 'answer': 'R'}, {'index': 14, 'type': 1, 'answer': 'D', 'label': '6'}, {'index': 15, 'type': 1, 'answer': 'U', 'label': '7'}, {'index': 16, 'type': 1, 'answer': 'D'}, {'index': 17, 'type': 1, 'answer': 'D'}, {'index': 18}]\n",
      "3\n",
      "[{'index': 0, 'type': 0}, {'index': 1, 'type': 1, 'answer': 'S', 'label': '1'}, {'index': 2, 'type': 1, 'answer': 'A', 'label': '2'}, {'index': 3, 'type': 1, 'answer': 'D', 'label': '3'}, {'index': 4, 'type': 0}, {'index': 5, 'type': 0}, {'index': 6, 'type': 1, 'answer': 'U', 'label': '4'}, {'index': 7, 'type': 1, 'answer': 'S'}, {'index': 8, 'type': 1, 'answer': 'A'}, {'index': 9, 'type': 0}, {'index': 10, 'type': 1, 'answer': 'B', 'label': '5'}, {'index': 11, 'type': 1, 'answer': 'E'}, {'index': 12, 'type': 1, 'answer': 'A'}, {'index': 13, 'type': 1, 'answer': 'R'}, {'index': 14, 'type': 1, 'answer': 'D', 'label': '6'}, {'index': 15, 'type': 1, 'answer': 'U', 'label': '7'}, {'index': 16, 'type': 1, 'answer': 'D'}, {'index': 17, 'type': 1, 'answer': 'D'}, {'index': 18, 'type': 1, 'answer': 'E'}, {'index': 19}]\n",
      "3\n",
      "[{'index': 0, 'type': 0}, {'index': 1, 'type': 1, 'answer': 'S', 'label': '1'}, {'index': 2, 'type': 1, 'answer': 'A', 'label': '2'}, {'index': 3, 'type': 1, 'answer': 'D', 'label': '3'}, {'index': 4, 'type': 0}, {'index': 5, 'type': 0}, {'index': 6, 'type': 1, 'answer': 'U', 'label': '4'}, {'index': 7, 'type': 1, 'answer': 'S'}, {'index': 8, 'type': 1, 'answer': 'A'}, {'index': 9, 'type': 0}, {'index': 10, 'type': 1, 'answer': 'B', 'label': '5'}, {'index': 11, 'type': 1, 'answer': 'E'}, {'index': 12, 'type': 1, 'answer': 'A'}, {'index': 13, 'type': 1, 'answer': 'R'}, {'index': 14, 'type': 1, 'answer': 'D', 'label': '6'}, {'index': 15, 'type': 1, 'answer': 'U', 'label': '7'}, {'index': 16, 'type': 1, 'answer': 'D'}, {'index': 17, 'type': 1, 'answer': 'D'}, {'index': 18, 'type': 1, 'answer': 'E'}, {'index': 19, 'type': 1, 'answer': 'R'}, {'index': 20}]\n",
      "4\n",
      "[{'index': 0, 'type': 0}, {'index': 1, 'type': 1, 'answer': 'S', 'label': '1'}, {'index': 2, 'type': 1, 'answer': 'A', 'label': '2'}, {'index': 3, 'type': 1, 'answer': 'D', 'label': '3'}, {'index': 4, 'type': 0}, {'index': 5, 'type': 0}, {'index': 6, 'type': 1, 'answer': 'U', 'label': '4'}, {'index': 7, 'type': 1, 'answer': 'S'}, {'index': 8, 'type': 1, 'answer': 'A'}, {'index': 9, 'type': 0}, {'index': 10, 'type': 1, 'answer': 'B', 'label': '5'}, {'index': 11, 'type': 1, 'answer': 'E'}, {'index': 12, 'type': 1, 'answer': 'A'}, {'index': 13, 'type': 1, 'answer': 'R'}, {'index': 14, 'type': 1, 'answer': 'D', 'label': '6'}, {'index': 15, 'type': 1, 'answer': 'U', 'label': '7'}, {'index': 16, 'type': 1, 'answer': 'D'}, {'index': 17, 'type': 1, 'answer': 'D'}, {'index': 18, 'type': 1, 'answer': 'E'}, {'index': 19, 'type': 1, 'answer': 'R'}, {'index': 20, 'type': 1, 'answer': 'B', 'label': '8'}, {'index': 21}]\n",
      "3\n",
      "[{'index': 0, 'type': 0}, {'index': 1, 'type': 1, 'answer': 'S', 'label': '1'}, {'index': 2, 'type': 1, 'answer': 'A', 'label': '2'}, {'index': 3, 'type': 1, 'answer': 'D', 'label': '3'}, {'index': 4, 'type': 0}, {'index': 5, 'type': 0}, {'index': 6, 'type': 1, 'answer': 'U', 'label': '4'}, {'index': 7, 'type': 1, 'answer': 'S'}, {'index': 8, 'type': 1, 'answer': 'A'}, {'index': 9, 'type': 0}, {'index': 10, 'type': 1, 'answer': 'B', 'label': '5'}, {'index': 11, 'type': 1, 'answer': 'E'}, {'index': 12, 'type': 1, 'answer': 'A'}, {'index': 13, 'type': 1, 'answer': 'R'}, {'index': 14, 'type': 1, 'answer': 'D', 'label': '6'}, {'index': 15, 'type': 1, 'answer': 'U', 'label': '7'}, {'index': 16, 'type': 1, 'answer': 'D'}, {'index': 17, 'type': 1, 'answer': 'D'}, {'index': 18, 'type': 1, 'answer': 'E'}, {'index': 19, 'type': 1, 'answer': 'R'}, {'index': 20, 'type': 1, 'answer': 'B', 'label': '8'}, {'index': 21, 'type': 1, 'answer': 'E'}, {'index': 22}]\n",
      "3\n",
      "[{'index': 0, 'type': 0}, {'index': 1, 'type': 1, 'answer': 'S', 'label': '1'}, {'index': 2, 'type': 1, 'answer': 'A', 'label': '2'}, {'index': 3, 'type': 1, 'answer': 'D', 'label': '3'}, {'index': 4, 'type': 0}, {'index': 5, 'type': 0}, {'index': 6, 'type': 1, 'answer': 'U', 'label': '4'}, {'index': 7, 'type': 1, 'answer': 'S'}, {'index': 8, 'type': 1, 'answer': 'A'}, {'index': 9, 'type': 0}, {'index': 10, 'type': 1, 'answer': 'B', 'label': '5'}, {'index': 11, 'type': 1, 'answer': 'E'}, {'index': 12, 'type': 1, 'answer': 'A'}, {'index': 13, 'type': 1, 'answer': 'R'}, {'index': 14, 'type': 1, 'answer': 'D', 'label': '6'}, {'index': 15, 'type': 1, 'answer': 'U', 'label': '7'}, {'index': 16, 'type': 1, 'answer': 'D'}, {'index': 17, 'type': 1, 'answer': 'D'}, {'index': 18, 'type': 1, 'answer': 'E'}, {'index': 19, 'type': 1, 'answer': 'R'}, {'index': 20, 'type': 1, 'answer': 'B', 'label': '8'}, {'index': 21, 'type': 1, 'answer': 'E'}, {'index': 22, 'type': 1, 'answer': 'A'}, {'index': 23}]\n",
      "3\n",
      "[{'index': 0, 'type': 0}, {'index': 1, 'type': 1, 'answer': 'S', 'label': '1'}, {'index': 2, 'type': 1, 'answer': 'A', 'label': '2'}, {'index': 3, 'type': 1, 'answer': 'D', 'label': '3'}, {'index': 4, 'type': 0}, {'index': 5, 'type': 0}, {'index': 6, 'type': 1, 'answer': 'U', 'label': '4'}, {'index': 7, 'type': 1, 'answer': 'S'}, {'index': 8, 'type': 1, 'answer': 'A'}, {'index': 9, 'type': 0}, {'index': 10, 'type': 1, 'answer': 'B', 'label': '5'}, {'index': 11, 'type': 1, 'answer': 'E'}, {'index': 12, 'type': 1, 'answer': 'A'}, {'index': 13, 'type': 1, 'answer': 'R'}, {'index': 14, 'type': 1, 'answer': 'D', 'label': '6'}, {'index': 15, 'type': 1, 'answer': 'U', 'label': '7'}, {'index': 16, 'type': 1, 'answer': 'D'}, {'index': 17, 'type': 1, 'answer': 'D'}, {'index': 18, 'type': 1, 'answer': 'E'}, {'index': 19, 'type': 1, 'answer': 'R'}, {'index': 20, 'type': 1, 'answer': 'B', 'label': '8'}, {'index': 21, 'type': 1, 'answer': 'E'}, {'index': 22, 'type': 1, 'answer': 'A'}, {'index': 23, 'type': 1, 'answer': 'R'}, {'index': 24}]\n",
      "3\n",
      "[{'index': 0, 'type': 0}, {'index': 1, 'type': 1, 'answer': 'S', 'label': '1'}, {'index': 2, 'type': 1, 'answer': 'A', 'label': '2'}, {'index': 3, 'type': 1, 'answer': 'D', 'label': '3'}, {'index': 4, 'type': 0}, {'index': 5, 'type': 0}, {'index': 6, 'type': 1, 'answer': 'U', 'label': '4'}, {'index': 7, 'type': 1, 'answer': 'S'}, {'index': 8, 'type': 1, 'answer': 'A'}, {'index': 9, 'type': 0}, {'index': 10, 'type': 1, 'answer': 'B', 'label': '5'}, {'index': 11, 'type': 1, 'answer': 'E'}, {'index': 12, 'type': 1, 'answer': 'A'}, {'index': 13, 'type': 1, 'answer': 'R'}, {'index': 14, 'type': 1, 'answer': 'D', 'label': '6'}, {'index': 15, 'type': 1, 'answer': 'U', 'label': '7'}, {'index': 16, 'type': 1, 'answer': 'D'}, {'index': 17, 'type': 1, 'answer': 'D'}, {'index': 18, 'type': 1, 'answer': 'E'}, {'index': 19, 'type': 1, 'answer': 'R'}, {'index': 20, 'type': 1, 'answer': 'B', 'label': '8'}, {'index': 21, 'type': 1, 'answer': 'E'}, {'index': 22, 'type': 1, 'answer': 'A'}, {'index': 23, 'type': 1, 'answer': 'R'}, {'index': 24, 'type': 1, 'answer': 'S'}]\n"
     ]
    }
   ],
   "source": [
    "cellAns = []\n",
    "h = open(\"answers.txt\",\"w\")\n",
    "\n",
    "# This loop iterates from 0th index up to 25, in other words it traverses all of the cells on the puzzle\n",
    "# Then it fills the cellAns list according to each cell's children count. As we have noticed, black cells\n",
    "# only have 1 children in the source code of the webpage. They contain only one attribute and that is\n",
    "# 'type', and that is 0 for black cells. For cells that contain a letter but are not labelled by a number\n",
    "# contain 3 children; 'type', 'value' and 'index', and cells that have a label contain 4 children\n",
    "# 'value', 'type', 'index' and 'label'. We place them accordingly into the list in an ascending order. \n",
    "for i in range(25):\n",
    "    cellAns.append({})\n",
    "    reveal = driver.find_element_by_id(\"cell-id-{i}\".format(i=i))\n",
    "    revealCount = reveal.get_property(\"parentNode\").get_property(\"childElementCount\")\n",
    "    cellAns[i][\"index\"] = i \n",
    "    print(cellAns)\n",
    "    print(revealCount)\n",
    "    if revealCount == 1:\n",
    "        cellAns[i][\"type\"] = 0\n",
    "    elif revealCount == 3:\n",
    "        value = reveal.get_property(\"parentNode\").get_property(\"childNodes\")[1].get_property(\"textContent\")\n",
    "        cellAns[i][\"type\"] = 1\n",
    "        cellAns[i][\"answer\"] = value[1]\n",
    "    elif revealCount == 4:\n",
    "        number = reveal.get_property(\"parentNode\").get_property(\"childNodes\")[1].get_property(\"textContent\")\n",
    "        value = reveal.get_property(\"parentNode\").get_property(\"childNodes\")[2].get_property(\"textContent\")\n",
    "        cellAns[i][\"type\"] = 1\n",
    "        cellAns[i][\"answer\"] = value[1]\n",
    "        cellAns[i][\"label\"] = number\n",
    "\n",
    "# Print out the answers to the console        \n",
    "print(cellAns)\n",
    "\n",
    "# Save answers into a text file\n",
    "with open(\"answers.txt\", \"w\") as h:\n",
    "    for line in cellAns:\n",
    "        h.write(str(line) + \"\\n\")\n",
    "h.close()\n",
    "\n",
    "driver.quit()\n",
    "\n",
    "\n",
    "subprocess.call(['java', '-jar', 'C:/Users/Okan/Desktop/Demo1/VERBATIM.jar'], shell=True)\n",
    "#subprocess.call(['java', '-jar', \"C:\\\\Users\\\\Okan\\\\Desktop\\\\Demo1\\\\VERBATIM.jar\"],shell=True)\n",
    "#subprocess.call(['(C:\\Users\\Okan\\Desktop\\Demo1\\)VERBATIM.jar'])\n",
    "#subprocess.call('java', '-jar', r\"C:\\Users\\Okan\\Desktop\\Demo1\\VERBATIM.jar\")\n",
    "#subprocess.call(['java', '-jar', 'VERBATIM.jar'])"
   ]
  },
  {
   "cell_type": "code",
   "execution_count": null,
   "metadata": {},
   "outputs": [],
   "source": []
  }
 ]
}